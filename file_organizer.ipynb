{
 "cells": [
  {
   "cell_type": "code",
   "execution_count": 1,
   "metadata": {},
   "outputs": [],
   "source": [
    "import os"
   ]
  },
  {
   "cell_type": "code",
   "execution_count": 2,
   "metadata": {},
   "outputs": [],
   "source": [
    "path_to_organize = 'C:/Users/xxx/Downloads/'"
   ]
  },
  {
   "cell_type": "code",
   "execution_count": 3,
   "metadata": {},
   "outputs": [],
   "source": [
    "dir_list = os.listdir(path_to_organize)"
   ]
  },
  {
   "cell_type": "code",
   "execution_count": 4,
   "metadata": {},
   "outputs": [],
   "source": [
    "filex_ext = []\n",
    "for file_name in dir_list: \n",
    "    point_in = 0\n",
    "    for letter_no in range(0,len(file_name)):\n",
    "        # print(dir_list[0][i])\n",
    "        if file_name[letter_no] == '.':\n",
    "            point_in = letter_no\n",
    "    if point_in > 0:\n",
    "        filex_ext.append({'file_name': file_name,\n",
    "                          'ext' : (file_name[point_in+1:]).upper()\n",
    "                          })\n",
    "        \n",
    "\n"
   ]
  },
  {
   "cell_type": "code",
   "execution_count": 5,
   "metadata": {},
   "outputs": [],
   "source": [
    "extensions = {item['ext'] for item in filex_ext}"
   ]
  },
  {
   "cell_type": "code",
   "execution_count": 6,
   "metadata": {},
   "outputs": [],
   "source": [
    "for ext in extensions:\n",
    "    if not(os.path.exists(path_to_organize + ext)):\n",
    "        os.mkdir(path_to_organize + ext)\n",
    "        print(f'The directory {path_to_organize + ext} in the route {path_to_organize} has been created')"
   ]
  },
  {
   "cell_type": "code",
   "execution_count": 7,
   "metadata": {},
   "outputs": [],
   "source": [
    "for i in filex_ext:\n",
    "    os.rename(f'{path_to_organize}{i[\"file_name\"]}',f'{path_to_organize}{i[\"ext\"]}/{i[\"file_name\"]}' )"
   ]
  }
 ],
 "metadata": {
  "kernelspec": {
   "display_name": "base",
   "language": "python",
   "name": "python3"
  },
  "language_info": {
   "codemirror_mode": {
    "name": "ipython",
    "version": 3
   },
   "file_extension": ".py",
   "mimetype": "text/x-python",
   "name": "python",
   "nbconvert_exporter": "python",
   "pygments_lexer": "ipython3",
   "version": "3.9.13"
  },
  "orig_nbformat": 4
 },
 "nbformat": 4,
 "nbformat_minor": 2
}
